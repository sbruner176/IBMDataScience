{
 "cells": [
  {
   "cell_type": "markdown",
   "id": "617e44eb-c348-4c9b-890a-93381817060f",
   "metadata": {},
   "source": [
    "# Data Science Tools and Ecosystem"
   ]
  },
  {
   "cell_type": "markdown",
   "id": "b2c587c9-99f5-4446-804c-f6d8c6d43cc1",
   "metadata": {
    "tags": []
   },
   "source": [
    "In this notebook, Data Science Tools and Ecosystems are summarized."
   ]
  },
  {
   "cell_type": "markdown",
   "id": "2ec21b17-3674-4f3f-91f4-a6a58cda0d4f",
   "metadata": {
    "tags": []
   },
   "source": [
    "**Objectives:**\n",
    "- list popular languages for Data Science\n",
    "- list commonly used libraries for Data Science\n",
    "- list commonly used development environments for Data Science\n",
    "- introduce evaluation of aritmetic expressions"
   ]
  },
  {
   "cell_type": "markdown",
   "id": "8d5e5104-d8df-4b76-ba76-3cb2d63b6faf",
   "metadata": {},
   "source": [
    "Some of the popular languages that Data Scientists use are:\n",
    "1. python\n",
    "2. R\n",
    "3. C++"
   ]
  },
  {
   "cell_type": "markdown",
   "id": "d69ed67e-f07c-4f89-a47a-815e2bda7e6a",
   "metadata": {},
   "source": [
    "Some libraries commonly used by Data Scientist include:\n",
    "1. Pandas\n",
    "2. NumPy\n",
    "3. Matplotlib"
   ]
  },
  {
   "cell_type": "markdown",
   "id": "98360099-bfa6-4bb4-b37a-41181a3ed8bd",
   "metadata": {},
   "source": [
    "| Data Science Tools|\n",
    "|--------|\n",
    "|JupyterLab|\n",
    "|RStudio|\n",
    "|Watson Studio|"
   ]
  },
  {
   "cell_type": "markdown",
   "id": "905b4325-083d-4b17-9f36-261bf0b7a996",
   "metadata": {},
   "source": [
    "### Below are a few examples of evaluating arithmetic expressions in Python\n",
    "7+2\n",
    "\n",
    "5-4\n",
    "\n",
    "(4+5)*6"
   ]
  },
  {
   "cell_type": "code",
   "execution_count": 2,
   "id": "e84e5efe-eccb-4369-a062-ca6450d7ef20",
   "metadata": {},
   "outputs": [
    {
     "data": {
      "text/plain": [
       "17"
      ]
     },
     "execution_count": 2,
     "metadata": {},
     "output_type": "execute_result"
    }
   ],
   "source": [
    "#A simple arithmetic expression to multiply then add integers\n",
    "(3*4)+5"
   ]
  },
  {
   "cell_type": "code",
   "execution_count": 4,
   "id": "641ec593-52b2-4920-a6e5-6b343ce3ebeb",
   "metadata": {},
   "outputs": [
    {
     "data": {
      "text/plain": [
       "3.3333333333333335"
      ]
     },
     "execution_count": 4,
     "metadata": {},
     "output_type": "execute_result"
    }
   ],
   "source": [
    "# this will convert 200 minutes into hours by dividing by 60\n",
    "200/60"
   ]
  },
  {
   "cell_type": "markdown",
   "id": "c0e6655a-4fac-45b3-90b6-9381c7f31e05",
   "metadata": {
    "tags": []
   },
   "source": [
    "## Author\n",
    "Sarah Bruner"
   ]
  }
 ],
 "metadata": {
  "kernelspec": {
   "display_name": "Python 3 (ipykernel)",
   "language": "python",
   "name": "python3"
  },
  "language_info": {
   "codemirror_mode": {
    "name": "ipython",
    "version": 3
   },
   "file_extension": ".py",
   "mimetype": "text/x-python",
   "name": "python",
   "nbconvert_exporter": "python",
   "pygments_lexer": "ipython3",
   "version": "3.9.13"
  }
 },
 "nbformat": 4,
 "nbformat_minor": 5
}
